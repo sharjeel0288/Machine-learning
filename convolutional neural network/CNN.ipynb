{
 "cells": [
  {
   "cell_type": "markdown",
   "metadata": {},
   "source": [
    "# Convolutional Neural Network"
   ]
  },
  {
   "cell_type": "markdown",
   "metadata": {},
   "source": []
  },
  {
   "cell_type": "code",
   "execution_count": 24,
   "metadata": {},
   "outputs": [],
   "source": [
    "# Importing the libraries\n",
    "import tensorflow as tf\n",
    "from keras.preprocessing.image import ImageDataGenerator\n"
   ]
  },
  {
   "cell_type": "markdown",
   "metadata": {},
   "source": [
    "## Part 1 - Data Preprocessing"
   ]
  },
  {
   "cell_type": "markdown",
   "metadata": {},
   "source": [
    "### Preprocessing the Training set"
   ]
  },
  {
   "cell_type": "code",
   "execution_count": 25,
   "metadata": {},
   "outputs": [
    {
     "name": "stdout",
     "output_type": "stream",
     "text": [
      "Found 7999 images belonging to 2 classes.\n"
     ]
    }
   ],
   "source": [
    "train_datagen = ImageDataGenerator(\n",
    "    rescale=1/255,\n",
    "    shear_range=0.2,\n",
    "    zoom_range=0.2,\n",
    "    horizontal_flip=True\n",
    ")\n",
    "training_set = train_datagen.flow_from_directory(\n",
    "    'dataset/training_set',\n",
    "    target_size=(64, 64),\n",
    "    batch_size=32,\n",
    "    class_mode='binary',\n",
    ")\n"
   ]
  },
  {
   "cell_type": "markdown",
   "metadata": {},
   "source": [
    "### Preprocessing the Test set"
   ]
  },
  {
   "cell_type": "code",
   "execution_count": 26,
   "metadata": {},
   "outputs": [
    {
     "name": "stdout",
     "output_type": "stream",
     "text": [
      "Found 2000 images belonging to 2 classes.\n"
     ]
    }
   ],
   "source": [
    "test_datagen = ImageDataGenerator(\n",
    "    rescale=1/255,\n",
    ")\n",
    "test_set = test_datagen.flow_from_directory(\n",
    "    'dataset/test_set',\n",
    "    target_size=(64, 64),\n",
    "    batch_size=32,\n",
    "    class_mode='binary',\n",
    ")\n"
   ]
  },
  {
   "cell_type": "markdown",
   "metadata": {},
   "source": [
    "## Part 2 - Building the CNN"
   ]
  },
  {
   "cell_type": "markdown",
   "metadata": {},
   "source": [
    "### Initialising the CNN"
   ]
  },
  {
   "cell_type": "code",
   "execution_count": 27,
   "metadata": {},
   "outputs": [],
   "source": [
    "cnn=tf.keras.models.Sequential()\n"
   ]
  },
  {
   "cell_type": "markdown",
   "metadata": {},
   "source": [
    "### Step 1 - Convolution"
   ]
  },
  {
   "cell_type": "code",
   "execution_count": 28,
   "metadata": {},
   "outputs": [],
   "source": [
    "cnn.add(\n",
    "    tf.keras.layers.Conv2D(\n",
    "        filters=32,\n",
    "        activation='relu',\n",
    "        input_shape=[64,64,3],\n",
    "        kernel_size=3,\n",
    "    )\n",
    ")"
   ]
  },
  {
   "cell_type": "markdown",
   "metadata": {},
   "source": [
    "### Step 2 - Pooling"
   ]
  },
  {
   "cell_type": "code",
   "execution_count": 29,
   "metadata": {},
   "outputs": [],
   "source": [
    "cnn.add(\n",
    "    tf.keras.layers.MaxPool2D(\n",
    "        pool_size=2,\n",
    "        strides=2\n",
    "    )\n",
    ")"
   ]
  },
  {
   "cell_type": "markdown",
   "metadata": {},
   "source": [
    "### Adding a second convolutional layer"
   ]
  },
  {
   "cell_type": "code",
   "execution_count": 30,
   "metadata": {},
   "outputs": [],
   "source": [
    "cnn.add(\n",
    "    tf.keras.layers.Conv2D(\n",
    "        filters=32,\n",
    "        activation='relu',\n",
    "        kernel_size=3,\n",
    "    )\n",
    ")\n",
    "cnn.add(\n",
    "    tf.keras.layers.MaxPool2D(\n",
    "        pool_size=2,\n",
    "        strides=2\n",
    "    )\n",
    ")"
   ]
  },
  {
   "cell_type": "markdown",
   "metadata": {},
   "source": [
    "### Step 3 - Flattening"
   ]
  },
  {
   "cell_type": "code",
   "execution_count": 31,
   "metadata": {},
   "outputs": [],
   "source": [
    "cnn.add(tf.keras.layers.Flatten())"
   ]
  },
  {
   "cell_type": "markdown",
   "metadata": {},
   "source": [
    "### Step 4 - Full Connection"
   ]
  },
  {
   "cell_type": "code",
   "execution_count": 32,
   "metadata": {},
   "outputs": [],
   "source": [
    "cnn.add(\n",
    "    tf.keras.layers.Dense(\n",
    "        units=128,\n",
    "        activation='relu',\n",
    "    )\n",
    ")\n"
   ]
  },
  {
   "cell_type": "markdown",
   "metadata": {},
   "source": [
    "### Step 5 - Output Layer"
   ]
  },
  {
   "cell_type": "code",
   "execution_count": 33,
   "metadata": {},
   "outputs": [],
   "source": [
    "cnn.add(\n",
    "    tf.keras.layers.Dense(\n",
    "        units=1,\n",
    "        activation='sigmoid',\n",
    "    )\n",
    ")"
   ]
  },
  {
   "cell_type": "markdown",
   "metadata": {},
   "source": [
    "## Part 3 - Training the CNN"
   ]
  },
  {
   "cell_type": "code",
   "execution_count": 34,
   "metadata": {},
   "outputs": [],
   "source": [
    "cnn.compile(optimizer='adam',loss='binary_crossentropy',metrics=['accuracy'])"
   ]
  },
  {
   "cell_type": "markdown",
   "metadata": {},
   "source": [
    "### Compiling the CNN"
   ]
  },
  {
   "cell_type": "markdown",
   "metadata": {},
   "source": [
    "### Training the CNN on the Training set and evaluating it on the Test set"
   ]
  },
  {
   "cell_type": "code",
   "execution_count": 35,
   "metadata": {},
   "outputs": [
    {
     "name": "stdout",
     "output_type": "stream",
     "text": [
      "Epoch 1/30\n",
      "250/250 [==============================] - 55s 216ms/step - loss: 0.6574 - accuracy: 0.6013 - val_loss: 0.5870 - val_accuracy: 0.7145\n",
      "Epoch 2/30\n",
      "250/250 [==============================] - 52s 207ms/step - loss: 0.5949 - accuracy: 0.6808 - val_loss: 0.5851 - val_accuracy: 0.6850\n",
      "Epoch 3/30\n",
      "250/250 [==============================] - 56s 224ms/step - loss: 0.5492 - accuracy: 0.7183 - val_loss: 0.5339 - val_accuracy: 0.7315\n",
      "Epoch 4/30\n",
      "250/250 [==============================] - 65s 261ms/step - loss: 0.5285 - accuracy: 0.7361 - val_loss: 0.5152 - val_accuracy: 0.7585\n",
      "Epoch 5/30\n",
      "250/250 [==============================] - 52s 210ms/step - loss: 0.5145 - accuracy: 0.7436 - val_loss: 0.5429 - val_accuracy: 0.7370\n",
      "Epoch 6/30\n",
      "250/250 [==============================] - 48s 191ms/step - loss: 0.4976 - accuracy: 0.7546 - val_loss: 0.4997 - val_accuracy: 0.7520\n",
      "Epoch 7/30\n",
      "250/250 [==============================] - 48s 191ms/step - loss: 0.4762 - accuracy: 0.7667 - val_loss: 0.4787 - val_accuracy: 0.7770\n",
      "Epoch 8/30\n",
      "250/250 [==============================] - 48s 191ms/step - loss: 0.4598 - accuracy: 0.7790 - val_loss: 0.5408 - val_accuracy: 0.7405\n",
      "Epoch 9/30\n",
      "250/250 [==============================] - 47s 188ms/step - loss: 0.4586 - accuracy: 0.7827 - val_loss: 0.4734 - val_accuracy: 0.7780\n",
      "Epoch 10/30\n",
      "250/250 [==============================] - 50s 199ms/step - loss: 0.4306 - accuracy: 0.8010 - val_loss: 0.4727 - val_accuracy: 0.7870\n",
      "Epoch 11/30\n",
      "250/250 [==============================] - 50s 199ms/step - loss: 0.4123 - accuracy: 0.8056 - val_loss: 0.4506 - val_accuracy: 0.7950\n",
      "Epoch 12/30\n",
      "250/250 [==============================] - 48s 192ms/step - loss: 0.4111 - accuracy: 0.8101 - val_loss: 0.4774 - val_accuracy: 0.7890\n",
      "Epoch 13/30\n",
      "250/250 [==============================] - 48s 191ms/step - loss: 0.3962 - accuracy: 0.8179 - val_loss: 0.4498 - val_accuracy: 0.8010\n",
      "Epoch 14/30\n",
      "250/250 [==============================] - 49s 194ms/step - loss: 0.3838 - accuracy: 0.8240 - val_loss: 0.5038 - val_accuracy: 0.7715\n",
      "Epoch 15/30\n",
      "250/250 [==============================] - 47s 188ms/step - loss: 0.3666 - accuracy: 0.8329 - val_loss: 0.5366 - val_accuracy: 0.7515\n",
      "Epoch 16/30\n",
      "250/250 [==============================] - 49s 194ms/step - loss: 0.3555 - accuracy: 0.8424 - val_loss: 0.4463 - val_accuracy: 0.8040\n",
      "Epoch 17/30\n",
      "250/250 [==============================] - 49s 195ms/step - loss: 0.3527 - accuracy: 0.8381 - val_loss: 0.4563 - val_accuracy: 0.7930\n",
      "Epoch 18/30\n",
      "250/250 [==============================] - 49s 195ms/step - loss: 0.3357 - accuracy: 0.8519 - val_loss: 0.4957 - val_accuracy: 0.7765\n",
      "Epoch 19/30\n",
      "250/250 [==============================] - 47s 188ms/step - loss: 0.3247 - accuracy: 0.8586 - val_loss: 0.4805 - val_accuracy: 0.7955\n",
      "Epoch 20/30\n",
      "250/250 [==============================] - 48s 193ms/step - loss: 0.3044 - accuracy: 0.8635 - val_loss: 0.4919 - val_accuracy: 0.8055\n",
      "Epoch 21/30\n",
      "250/250 [==============================] - 46s 183ms/step - loss: 0.3027 - accuracy: 0.8727 - val_loss: 0.4554 - val_accuracy: 0.8215\n",
      "Epoch 22/30\n",
      "250/250 [==============================] - 44s 176ms/step - loss: 0.2827 - accuracy: 0.8791 - val_loss: 0.4816 - val_accuracy: 0.8035\n",
      "Epoch 23/30\n",
      "250/250 [==============================] - 47s 186ms/step - loss: 0.2765 - accuracy: 0.8815 - val_loss: 0.5420 - val_accuracy: 0.8015\n",
      "Epoch 24/30\n",
      "250/250 [==============================] - 43s 171ms/step - loss: 0.2615 - accuracy: 0.8934 - val_loss: 0.4662 - val_accuracy: 0.8145\n",
      "Epoch 25/30\n",
      "250/250 [==============================] - 45s 179ms/step - loss: 0.2462 - accuracy: 0.8974 - val_loss: 0.5110 - val_accuracy: 0.8075\n",
      "Epoch 26/30\n",
      "250/250 [==============================] - 45s 181ms/step - loss: 0.2365 - accuracy: 0.9022 - val_loss: 0.4957 - val_accuracy: 0.8110\n",
      "Epoch 27/30\n",
      "250/250 [==============================] - 44s 177ms/step - loss: 0.2354 - accuracy: 0.9029 - val_loss: 0.5141 - val_accuracy: 0.8030\n",
      "Epoch 28/30\n",
      "250/250 [==============================] - 43s 173ms/step - loss: 0.2131 - accuracy: 0.9144 - val_loss: 0.5058 - val_accuracy: 0.8060\n",
      "Epoch 29/30\n",
      "250/250 [==============================] - 45s 181ms/step - loss: 0.2068 - accuracy: 0.9152 - val_loss: 0.5755 - val_accuracy: 0.7950\n",
      "Epoch 30/30\n",
      "250/250 [==============================] - 46s 183ms/step - loss: 0.1984 - accuracy: 0.9249 - val_loss: 0.5616 - val_accuracy: 0.8010\n"
     ]
    },
    {
     "data": {
      "text/plain": [
       "<keras.callbacks.History at 0x2dacea418a0>"
      ]
     },
     "execution_count": 35,
     "metadata": {},
     "output_type": "execute_result"
    }
   ],
   "source": [
    "cnn.fit(x=training_set,validation_data=test_set,epochs=30)"
   ]
  },
  {
   "cell_type": "markdown",
   "metadata": {},
   "source": [
    "## Part 4 - Making a single prediction"
   ]
  },
  {
   "cell_type": "code",
   "execution_count": 41,
   "metadata": {},
   "outputs": [
    {
     "name": "stdout",
     "output_type": "stream",
     "text": [
      "1/1 [==============================] - 0s 43ms/step\n"
     ]
    }
   ],
   "source": [
    "import numpy as np\n",
    "from keras.preprocessing import image \n",
    "test_image=tf.keras.utils.load_img(\n",
    "    'dataset\\single_prediction\\cat_or_dog_2.jpg',\n",
    "    target_size=(64,64),\n",
    ")\n",
    "test_image=tf.keras.utils.img_to_array(test_image)\n",
    "test_image=np.expand_dims(test_image,axis=0)\n",
    "result=cnn.predict(test_image)\n",
    "training_set.class_indices\n",
    "if(result[0][0]):\n",
    "    predicition='dog'\n",
    "else:\n",
    "    predicition='cat'\n",
    "\n"
   ]
  },
  {
   "cell_type": "code",
   "execution_count": 42,
   "metadata": {},
   "outputs": [
    {
     "name": "stdout",
     "output_type": "stream",
     "text": [
      "cat\n"
     ]
    }
   ],
   "source": [
    "print(predicition)"
   ]
  }
 ],
 "metadata": {
  "kernelspec": {
   "display_name": "Python 3.10.5 64-bit",
   "language": "python",
   "name": "python3"
  },
  "language_info": {
   "codemirror_mode": {
    "name": "ipython",
    "version": 3
   },
   "file_extension": ".py",
   "mimetype": "text/x-python",
   "name": "python",
   "nbconvert_exporter": "python",
   "pygments_lexer": "ipython3",
   "version": "3.10.5"
  },
  "orig_nbformat": 4,
  "vscode": {
   "interpreter": {
    "hash": "ce31b1fc0ac848893791b844720c2934ff950e55938c71eb868b58ab502f8f20"
   }
  }
 },
 "nbformat": 4,
 "nbformat_minor": 2
}
