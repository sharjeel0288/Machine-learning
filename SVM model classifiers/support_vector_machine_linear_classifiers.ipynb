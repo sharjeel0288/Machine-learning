{
 "cells": [
  {
   "cell_type": "code",
   "execution_count": 19,
   "metadata": {},
   "outputs": [],
   "source": [
    "# importing libraries\n",
    "import matplotlib.pyplot as plt\n",
    "import pandas as pd\n",
    "import numpy as np"
   ]
  },
  {
   "cell_type": "code",
   "execution_count": 20,
   "metadata": {},
   "outputs": [],
   "source": [
    "# importing dataset\n",
    "dataset=pd.read_csv('Social_Network_Ads.csv')\n",
    "x=dataset.iloc[:,:-1].values\n",
    "y=dataset.iloc[:,-1].values"
   ]
  },
  {
   "cell_type": "code",
   "execution_count": 21,
   "metadata": {},
   "outputs": [],
   "source": [
    "# spliting dataset into test and training set\n",
    "from sklearn.model_selection import train_test_split\n",
    "x_train,x_test,y_train,y_test=train_test_split(x,y,test_size=0.25,random_state=0)"
   ]
  },
  {
   "cell_type": "code",
   "execution_count": 22,
   "metadata": {},
   "outputs": [],
   "source": [
    "# feature scaling \n",
    "from sklearn.preprocessing import StandardScaler\n",
    "ss=StandardScaler()\n",
    "x_train=ss.fit_transform(x_train)\n",
    "x_test=ss.fit_transform(x_test)"
   ]
  },
  {
   "cell_type": "code",
   "execution_count": 28,
   "metadata": {},
   "outputs": [
    {
     "data": {
      "text/html": [
       "<style>#sk-container-id-4 {color: black;background-color: white;}#sk-container-id-4 pre{padding: 0;}#sk-container-id-4 div.sk-toggleable {background-color: white;}#sk-container-id-4 label.sk-toggleable__label {cursor: pointer;display: block;width: 100%;margin-bottom: 0;padding: 0.3em;box-sizing: border-box;text-align: center;}#sk-container-id-4 label.sk-toggleable__label-arrow:before {content: \"▸\";float: left;margin-right: 0.25em;color: #696969;}#sk-container-id-4 label.sk-toggleable__label-arrow:hover:before {color: black;}#sk-container-id-4 div.sk-estimator:hover label.sk-toggleable__label-arrow:before {color: black;}#sk-container-id-4 div.sk-toggleable__content {max-height: 0;max-width: 0;overflow: hidden;text-align: left;background-color: #f0f8ff;}#sk-container-id-4 div.sk-toggleable__content pre {margin: 0.2em;color: black;border-radius: 0.25em;background-color: #f0f8ff;}#sk-container-id-4 input.sk-toggleable__control:checked~div.sk-toggleable__content {max-height: 200px;max-width: 100%;overflow: auto;}#sk-container-id-4 input.sk-toggleable__control:checked~label.sk-toggleable__label-arrow:before {content: \"▾\";}#sk-container-id-4 div.sk-estimator input.sk-toggleable__control:checked~label.sk-toggleable__label {background-color: #d4ebff;}#sk-container-id-4 div.sk-label input.sk-toggleable__control:checked~label.sk-toggleable__label {background-color: #d4ebff;}#sk-container-id-4 input.sk-hidden--visually {border: 0;clip: rect(1px 1px 1px 1px);clip: rect(1px, 1px, 1px, 1px);height: 1px;margin: -1px;overflow: hidden;padding: 0;position: absolute;width: 1px;}#sk-container-id-4 div.sk-estimator {font-family: monospace;background-color: #f0f8ff;border: 1px dotted black;border-radius: 0.25em;box-sizing: border-box;margin-bottom: 0.5em;}#sk-container-id-4 div.sk-estimator:hover {background-color: #d4ebff;}#sk-container-id-4 div.sk-parallel-item::after {content: \"\";width: 100%;border-bottom: 1px solid gray;flex-grow: 1;}#sk-container-id-4 div.sk-label:hover label.sk-toggleable__label {background-color: #d4ebff;}#sk-container-id-4 div.sk-serial::before {content: \"\";position: absolute;border-left: 1px solid gray;box-sizing: border-box;top: 0;bottom: 0;left: 50%;z-index: 0;}#sk-container-id-4 div.sk-serial {display: flex;flex-direction: column;align-items: center;background-color: white;padding-right: 0.2em;padding-left: 0.2em;position: relative;}#sk-container-id-4 div.sk-item {position: relative;z-index: 1;}#sk-container-id-4 div.sk-parallel {display: flex;align-items: stretch;justify-content: center;background-color: white;position: relative;}#sk-container-id-4 div.sk-item::before, #sk-container-id-4 div.sk-parallel-item::before {content: \"\";position: absolute;border-left: 1px solid gray;box-sizing: border-box;top: 0;bottom: 0;left: 50%;z-index: -1;}#sk-container-id-4 div.sk-parallel-item {display: flex;flex-direction: column;z-index: 1;position: relative;background-color: white;}#sk-container-id-4 div.sk-parallel-item:first-child::after {align-self: flex-end;width: 50%;}#sk-container-id-4 div.sk-parallel-item:last-child::after {align-self: flex-start;width: 50%;}#sk-container-id-4 div.sk-parallel-item:only-child::after {width: 0;}#sk-container-id-4 div.sk-dashed-wrapped {border: 1px dashed gray;margin: 0 0.4em 0.5em 0.4em;box-sizing: border-box;padding-bottom: 0.4em;background-color: white;}#sk-container-id-4 div.sk-label label {font-family: monospace;font-weight: bold;display: inline-block;line-height: 1.2em;}#sk-container-id-4 div.sk-label-container {text-align: center;}#sk-container-id-4 div.sk-container {/* jupyter's `normalize.less` sets `[hidden] { display: none; }` but bootstrap.min.css set `[hidden] { display: none !important; }` so we also need the `!important` here to be able to override the default hidden behavior on the sphinx rendered scikit-learn.org. See: https://github.com/scikit-learn/scikit-learn/issues/21755 */display: inline-block !important;position: relative;}#sk-container-id-4 div.sk-text-repr-fallback {display: none;}</style><div id=\"sk-container-id-4\" class=\"sk-top-container\"><div class=\"sk-text-repr-fallback\"><pre>SVC(kernel=&#x27;linear&#x27;, random_state=0)</pre><b>In a Jupyter environment, please rerun this cell to show the HTML representation or trust the notebook. <br />On GitHub, the HTML representation is unable to render, please try loading this page with nbviewer.org.</b></div><div class=\"sk-container\" hidden><div class=\"sk-item\"><div class=\"sk-estimator sk-toggleable\"><input class=\"sk-toggleable__control sk-hidden--visually\" id=\"sk-estimator-id-4\" type=\"checkbox\" checked><label for=\"sk-estimator-id-4\" class=\"sk-toggleable__label sk-toggleable__label-arrow\">SVC</label><div class=\"sk-toggleable__content\"><pre>SVC(kernel=&#x27;linear&#x27;, random_state=0)</pre></div></div></div></div></div>"
      ],
      "text/plain": [
       "SVC(kernel='linear', random_state=0)"
      ]
     },
     "execution_count": 28,
     "metadata": {},
     "output_type": "execute_result"
    }
   ],
   "source": [
    "# train the logistic regression model on the training set\n",
    "from sklearn.svm import SVC\n",
    "classifier=SVC(kernel='linear',random_state=0)\n",
    "classifier.fit(x_train,y_train)  "
   ]
  },
  {
   "cell_type": "code",
   "execution_count": 29,
   "metadata": {},
   "outputs": [
    {
     "data": {
      "text/plain": [
       "array([0], dtype=int64)"
      ]
     },
     "execution_count": 29,
     "metadata": {},
     "output_type": "execute_result"
    }
   ],
   "source": [
    "# predicting a new result\n",
    "classifier.predict(ss.transform([[30,87000]])) "
   ]
  },
  {
   "cell_type": "code",
   "execution_count": 30,
   "metadata": {},
   "outputs": [
    {
     "name": "stdout",
     "output_type": "stream",
     "text": [
      "[[0 0]\n",
      " [0 0]\n",
      " [0 0]\n",
      " [0 0]\n",
      " [0 0]\n",
      " [0 0]\n",
      " [0 0]\n",
      " [1 1]\n",
      " [0 0]\n",
      " [0 0]\n",
      " [0 0]\n",
      " [0 0]\n",
      " [0 0]\n",
      " [0 0]\n",
      " [0 0]\n",
      " [1 0]\n",
      " [0 0]\n",
      " [0 0]\n",
      " [1 1]\n",
      " [0 0]\n",
      " [0 0]\n",
      " [1 1]\n",
      " [0 0]\n",
      " [1 1]\n",
      " [0 0]\n",
      " [1 1]\n",
      " [0 0]\n",
      " [0 0]\n",
      " [0 0]\n",
      " [0 0]\n",
      " [0 0]\n",
      " [0 1]\n",
      " [1 1]\n",
      " [0 0]\n",
      " [0 0]\n",
      " [0 0]\n",
      " [0 0]\n",
      " [0 0]\n",
      " [0 0]\n",
      " [1 1]\n",
      " [0 0]\n",
      " [0 0]\n",
      " [0 0]\n",
      " [0 0]\n",
      " [1 1]\n",
      " [0 0]\n",
      " [0 0]\n",
      " [1 1]\n",
      " [0 0]\n",
      " [1 1]\n",
      " [1 1]\n",
      " [0 0]\n",
      " [0 0]\n",
      " [1 0]\n",
      " [1 1]\n",
      " [0 1]\n",
      " [0 0]\n",
      " [0 0]\n",
      " [0 1]\n",
      " [0 0]\n",
      " [0 0]\n",
      " [1 1]\n",
      " [0 0]\n",
      " [1 1]\n",
      " [0 0]\n",
      " [1 1]\n",
      " [0 0]\n",
      " [0 0]\n",
      " [0 0]\n",
      " [1 0]\n",
      " [1 1]\n",
      " [0 0]\n",
      " [0 0]\n",
      " [0 1]\n",
      " [0 0]\n",
      " [0 0]\n",
      " [1 0]\n",
      " [0 0]\n",
      " [1 1]\n",
      " [1 1]\n",
      " [1 1]\n",
      " [1 0]\n",
      " [0 0]\n",
      " [0 0]\n",
      " [1 1]\n",
      " [1 1]\n",
      " [0 0]\n",
      " [1 1]\n",
      " [0 1]\n",
      " [0 0]\n",
      " [0 0]\n",
      " [1 1]\n",
      " [0 0]\n",
      " [0 0]\n",
      " [0 0]\n",
      " [0 1]\n",
      " [0 0]\n",
      " [0 1]\n",
      " [1 1]\n",
      " [1 1]]\n"
     ]
    }
   ],
   "source": [
    "# predicting test set result\n",
    "y_pred=classifier.predict(x_test)\n",
    "print(np.concatenate((y_pred.reshape(len(y_pred),1), y_test.reshape(len(y_test),1)),1))"
   ]
  },
  {
   "cell_type": "code",
   "execution_count": 34,
   "metadata": {},
   "outputs": [
    {
     "name": "stdout",
     "output_type": "stream",
     "text": [
      "[[63  5]\n",
      " [ 7 25]]\n"
     ]
    },
    {
     "data": {
      "text/plain": [
       "0.88"
      ]
     },
     "execution_count": 34,
     "metadata": {},
     "output_type": "execute_result"
    }
   ],
   "source": [
    "# making the confusion matrix\n",
    "from sklearn.metrics import confusion_matrix, accuracy_score\n",
    "cm=confusion_matrix(y_test,y_pred)\n",
    "print(cm)\n",
    "accuracy_score(y_test,y_pred)\n",
    "\n",
    "# 63 correct predictions who didn't buy product\n",
    "# 25 correct predictions who did buy product\n",
    "# 5 incorrect predictions who didn't buy product\n",
    "# 7 incorrect predictions who did buy product"
   ]
  },
  {
   "cell_type": "code",
   "execution_count": 32,
   "metadata": {},
   "outputs": [
    {
     "ename": "MemoryError",
     "evalue": "Unable to allocate 1.05 GiB for an array with shape (520038, 270) and data type float64",
     "output_type": "error",
     "traceback": [
      "\u001b[1;31m---------------------------------------------------------------------------\u001b[0m",
      "\u001b[1;31mMemoryError\u001b[0m                               Traceback (most recent call last)",
      "\u001b[1;32md:\\Machine learning practice\\SVM model\\support_vector_machine.ipynb Cell 9'\u001b[0m in \u001b[0;36m<cell line: 4>\u001b[1;34m()\u001b[0m\n\u001b[0;32m      <a href='vscode-notebook-cell:/d%3A/Machine%20learning%20practice/SVM%20model/support_vector_machine.ipynb#ch0000008?line=1'>2</a>\u001b[0m \u001b[39mfrom\u001b[39;00m \u001b[39mmatplotlib\u001b[39;00m\u001b[39m.\u001b[39;00m\u001b[39mcolors\u001b[39;00m \u001b[39mimport\u001b[39;00m ListedColormap\n\u001b[0;32m      <a href='vscode-notebook-cell:/d%3A/Machine%20learning%20practice/SVM%20model/support_vector_machine.ipynb#ch0000008?line=2'>3</a>\u001b[0m X_set, y_set \u001b[39m=\u001b[39m ss\u001b[39m.\u001b[39minverse_transform(x_train), y_train\n\u001b[1;32m----> <a href='vscode-notebook-cell:/d%3A/Machine%20learning%20practice/SVM%20model/support_vector_machine.ipynb#ch0000008?line=3'>4</a>\u001b[0m X1, X2 \u001b[39m=\u001b[39m np\u001b[39m.\u001b[39;49mmeshgrid(np\u001b[39m.\u001b[39;49marange(start \u001b[39m=\u001b[39;49m X_set[:, \u001b[39m0\u001b[39;49m]\u001b[39m.\u001b[39;49mmin() \u001b[39m-\u001b[39;49m \u001b[39m10\u001b[39;49m, stop \u001b[39m=\u001b[39;49m X_set[:, \u001b[39m0\u001b[39;49m]\u001b[39m.\u001b[39;49mmax() \u001b[39m+\u001b[39;49m \u001b[39m10\u001b[39;49m, step \u001b[39m=\u001b[39;49m \u001b[39m0.25\u001b[39;49m),\n\u001b[0;32m      <a href='vscode-notebook-cell:/d%3A/Machine%20learning%20practice/SVM%20model/support_vector_machine.ipynb#ch0000008?line=4'>5</a>\u001b[0m                      np\u001b[39m.\u001b[39;49marange(start \u001b[39m=\u001b[39;49m X_set[:, \u001b[39m1\u001b[39;49m]\u001b[39m.\u001b[39;49mmin() \u001b[39m-\u001b[39;49m \u001b[39m1000\u001b[39;49m, stop \u001b[39m=\u001b[39;49m X_set[:, \u001b[39m1\u001b[39;49m]\u001b[39m.\u001b[39;49mmax() \u001b[39m+\u001b[39;49m \u001b[39m1000\u001b[39;49m, step \u001b[39m=\u001b[39;49m \u001b[39m0.25\u001b[39;49m))\n\u001b[0;32m      <a href='vscode-notebook-cell:/d%3A/Machine%20learning%20practice/SVM%20model/support_vector_machine.ipynb#ch0000008?line=5'>6</a>\u001b[0m plt\u001b[39m.\u001b[39mcontourf(X1, X2, classifier\u001b[39m.\u001b[39mpredict(ss\u001b[39m.\u001b[39mtransform(np\u001b[39m.\u001b[39marray([X1\u001b[39m.\u001b[39mravel(), X2\u001b[39m.\u001b[39mravel()])\u001b[39m.\u001b[39mT))\u001b[39m.\u001b[39mreshape(X1\u001b[39m.\u001b[39mshape),\n\u001b[0;32m      <a href='vscode-notebook-cell:/d%3A/Machine%20learning%20practice/SVM%20model/support_vector_machine.ipynb#ch0000008?line=6'>7</a>\u001b[0m              alpha \u001b[39m=\u001b[39m \u001b[39m0.75\u001b[39m, cmap \u001b[39m=\u001b[39m ListedColormap((\u001b[39m'\u001b[39m\u001b[39mred\u001b[39m\u001b[39m'\u001b[39m, \u001b[39m'\u001b[39m\u001b[39mgreen\u001b[39m\u001b[39m'\u001b[39m)))\n\u001b[0;32m      <a href='vscode-notebook-cell:/d%3A/Machine%20learning%20practice/SVM%20model/support_vector_machine.ipynb#ch0000008?line=7'>8</a>\u001b[0m plt\u001b[39m.\u001b[39mxlim(X1\u001b[39m.\u001b[39mmin(), X1\u001b[39m.\u001b[39mmax())\n",
      "File \u001b[1;32m<__array_function__ internals>:180\u001b[0m, in \u001b[0;36mmeshgrid\u001b[1;34m(*args, **kwargs)\u001b[0m\n",
      "File \u001b[1;32mc:\\Users\\sharj\\AppData\\Local\\Programs\\Python\\Python310\\lib\\site-packages\\numpy\\lib\\function_base.py:4990\u001b[0m, in \u001b[0;36mmeshgrid\u001b[1;34m(copy, sparse, indexing, *xi)\u001b[0m\n\u001b[0;32m   4987\u001b[0m     output \u001b[39m=\u001b[39m np\u001b[39m.\u001b[39mbroadcast_arrays(\u001b[39m*\u001b[39moutput, subok\u001b[39m=\u001b[39m\u001b[39mTrue\u001b[39;00m)\n\u001b[0;32m   4989\u001b[0m \u001b[39mif\u001b[39;00m copy:\n\u001b[1;32m-> 4990\u001b[0m     output \u001b[39m=\u001b[39m [x\u001b[39m.\u001b[39mcopy() \u001b[39mfor\u001b[39;00m x \u001b[39min\u001b[39;00m output]\n\u001b[0;32m   4992\u001b[0m \u001b[39mreturn\u001b[39;00m output\n",
      "File \u001b[1;32mc:\\Users\\sharj\\AppData\\Local\\Programs\\Python\\Python310\\lib\\site-packages\\numpy\\lib\\function_base.py:4990\u001b[0m, in \u001b[0;36m<listcomp>\u001b[1;34m(.0)\u001b[0m\n\u001b[0;32m   4987\u001b[0m     output \u001b[39m=\u001b[39m np\u001b[39m.\u001b[39mbroadcast_arrays(\u001b[39m*\u001b[39moutput, subok\u001b[39m=\u001b[39m\u001b[39mTrue\u001b[39;00m)\n\u001b[0;32m   4989\u001b[0m \u001b[39mif\u001b[39;00m copy:\n\u001b[1;32m-> 4990\u001b[0m     output \u001b[39m=\u001b[39m [x\u001b[39m.\u001b[39;49mcopy() \u001b[39mfor\u001b[39;00m x \u001b[39min\u001b[39;00m output]\n\u001b[0;32m   4992\u001b[0m \u001b[39mreturn\u001b[39;00m output\n",
      "\u001b[1;31mMemoryError\u001b[0m: Unable to allocate 1.05 GiB for an array with shape (520038, 270) and data type float64"
     ]
    }
   ],
   "source": [
    "# visualising the training set results\n",
    "from matplotlib.colors import ListedColormap\n",
    "X_set, y_set = ss.inverse_transform(x_train), y_train\n",
    "X1, X2 = np.meshgrid(np.arange(start = X_set[:, 0].min() - 10, stop = X_set[:, 0].max() + 10, step = 0.25),\n",
    "                     np.arange(start = X_set[:, 1].min() - 1000, stop = X_set[:, 1].max() + 1000, step = 0.25))\n",
    "plt.contourf(X1, X2, classifier.predict(ss.transform(np.array([X1.ravel(), X2.ravel()]).T)).reshape(X1.shape),\n",
    "             alpha = 0.75, cmap = ListedColormap(('red', 'green')))\n",
    "plt.xlim(X1.min(), X1.max())\n",
    "plt.ylim(X2.min(), X2.max())\n",
    "for i, j in enumerate(np.unique(y_set)):\n",
    "    plt.scatter(X_set[y_set == j, 0], X_set[y_set == j, 1], c = ListedColormap(('red', 'green'))(i), label = j)\n",
    "plt.title('Logistic Regression (Training set)')\n",
    "plt.xlabel('Age')\n",
    "plt.ylabel('Estimated Salary')\n",
    "plt.legend()\n",
    "plt.show()"
   ]
  },
  {
   "cell_type": "code",
   "execution_count": 33,
   "metadata": {},
   "outputs": [
    {
     "ename": "MemoryError",
     "evalue": "Unable to allocate 1.01 GiB for an array with shape (548000, 248) and data type float64",
     "output_type": "error",
     "traceback": [
      "\u001b[1;31m---------------------------------------------------------------------------\u001b[0m",
      "\u001b[1;31mMemoryError\u001b[0m                               Traceback (most recent call last)",
      "\u001b[1;32md:\\Machine learning practice\\SVM model\\support_vector_machine.ipynb Cell 10'\u001b[0m in \u001b[0;36m<cell line: 4>\u001b[1;34m()\u001b[0m\n\u001b[0;32m      <a href='vscode-notebook-cell:/d%3A/Machine%20learning%20practice/SVM%20model/support_vector_machine.ipynb#ch0000009?line=1'>2</a>\u001b[0m \u001b[39mfrom\u001b[39;00m \u001b[39mmatplotlib\u001b[39;00m\u001b[39m.\u001b[39;00m\u001b[39mcolors\u001b[39;00m \u001b[39mimport\u001b[39;00m ListedColormap\n\u001b[0;32m      <a href='vscode-notebook-cell:/d%3A/Machine%20learning%20practice/SVM%20model/support_vector_machine.ipynb#ch0000009?line=2'>3</a>\u001b[0m X_set, y_set \u001b[39m=\u001b[39m ss\u001b[39m.\u001b[39minverse_transform(x_test), y_test\n\u001b[1;32m----> <a href='vscode-notebook-cell:/d%3A/Machine%20learning%20practice/SVM%20model/support_vector_machine.ipynb#ch0000009?line=3'>4</a>\u001b[0m X1, X2 \u001b[39m=\u001b[39m np\u001b[39m.\u001b[39;49mmeshgrid(np\u001b[39m.\u001b[39;49marange(start \u001b[39m=\u001b[39;49m X_set[:, \u001b[39m0\u001b[39;49m]\u001b[39m.\u001b[39;49mmin() \u001b[39m-\u001b[39;49m \u001b[39m10\u001b[39;49m, stop \u001b[39m=\u001b[39;49m X_set[:, \u001b[39m0\u001b[39;49m]\u001b[39m.\u001b[39;49mmax() \u001b[39m+\u001b[39;49m \u001b[39m10\u001b[39;49m, step \u001b[39m=\u001b[39;49m \u001b[39m0.25\u001b[39;49m),\n\u001b[0;32m      <a href='vscode-notebook-cell:/d%3A/Machine%20learning%20practice/SVM%20model/support_vector_machine.ipynb#ch0000009?line=4'>5</a>\u001b[0m                      np\u001b[39m.\u001b[39;49marange(start \u001b[39m=\u001b[39;49m X_set[:, \u001b[39m1\u001b[39;49m]\u001b[39m.\u001b[39;49mmin() \u001b[39m-\u001b[39;49m \u001b[39m1000\u001b[39;49m, stop \u001b[39m=\u001b[39;49m X_set[:, \u001b[39m1\u001b[39;49m]\u001b[39m.\u001b[39;49mmax() \u001b[39m+\u001b[39;49m \u001b[39m1000\u001b[39;49m, step \u001b[39m=\u001b[39;49m \u001b[39m0.25\u001b[39;49m))\n\u001b[0;32m      <a href='vscode-notebook-cell:/d%3A/Machine%20learning%20practice/SVM%20model/support_vector_machine.ipynb#ch0000009?line=5'>6</a>\u001b[0m plt\u001b[39m.\u001b[39mcontourf(X1, X2, classifier\u001b[39m.\u001b[39mpredict(ss\u001b[39m.\u001b[39mtransform(np\u001b[39m.\u001b[39marray([X1\u001b[39m.\u001b[39mravel(), X2\u001b[39m.\u001b[39mravel()])\u001b[39m.\u001b[39mT))\u001b[39m.\u001b[39mreshape(X1\u001b[39m.\u001b[39mshape),\n\u001b[0;32m      <a href='vscode-notebook-cell:/d%3A/Machine%20learning%20practice/SVM%20model/support_vector_machine.ipynb#ch0000009?line=6'>7</a>\u001b[0m              alpha \u001b[39m=\u001b[39m \u001b[39m0.75\u001b[39m, cmap \u001b[39m=\u001b[39m ListedColormap((\u001b[39m'\u001b[39m\u001b[39mred\u001b[39m\u001b[39m'\u001b[39m, \u001b[39m'\u001b[39m\u001b[39mgreen\u001b[39m\u001b[39m'\u001b[39m)))\n\u001b[0;32m      <a href='vscode-notebook-cell:/d%3A/Machine%20learning%20practice/SVM%20model/support_vector_machine.ipynb#ch0000009?line=7'>8</a>\u001b[0m plt\u001b[39m.\u001b[39mxlim(X1\u001b[39m.\u001b[39mmin(), X1\u001b[39m.\u001b[39mmax())\n",
      "File \u001b[1;32m<__array_function__ internals>:180\u001b[0m, in \u001b[0;36mmeshgrid\u001b[1;34m(*args, **kwargs)\u001b[0m\n",
      "File \u001b[1;32mc:\\Users\\sharj\\AppData\\Local\\Programs\\Python\\Python310\\lib\\site-packages\\numpy\\lib\\function_base.py:4990\u001b[0m, in \u001b[0;36mmeshgrid\u001b[1;34m(copy, sparse, indexing, *xi)\u001b[0m\n\u001b[0;32m   4987\u001b[0m     output \u001b[39m=\u001b[39m np\u001b[39m.\u001b[39mbroadcast_arrays(\u001b[39m*\u001b[39moutput, subok\u001b[39m=\u001b[39m\u001b[39mTrue\u001b[39;00m)\n\u001b[0;32m   4989\u001b[0m \u001b[39mif\u001b[39;00m copy:\n\u001b[1;32m-> 4990\u001b[0m     output \u001b[39m=\u001b[39m [x\u001b[39m.\u001b[39mcopy() \u001b[39mfor\u001b[39;00m x \u001b[39min\u001b[39;00m output]\n\u001b[0;32m   4992\u001b[0m \u001b[39mreturn\u001b[39;00m output\n",
      "File \u001b[1;32mc:\\Users\\sharj\\AppData\\Local\\Programs\\Python\\Python310\\lib\\site-packages\\numpy\\lib\\function_base.py:4990\u001b[0m, in \u001b[0;36m<listcomp>\u001b[1;34m(.0)\u001b[0m\n\u001b[0;32m   4987\u001b[0m     output \u001b[39m=\u001b[39m np\u001b[39m.\u001b[39mbroadcast_arrays(\u001b[39m*\u001b[39moutput, subok\u001b[39m=\u001b[39m\u001b[39mTrue\u001b[39;00m)\n\u001b[0;32m   4989\u001b[0m \u001b[39mif\u001b[39;00m copy:\n\u001b[1;32m-> 4990\u001b[0m     output \u001b[39m=\u001b[39m [x\u001b[39m.\u001b[39;49mcopy() \u001b[39mfor\u001b[39;00m x \u001b[39min\u001b[39;00m output]\n\u001b[0;32m   4992\u001b[0m \u001b[39mreturn\u001b[39;00m output\n",
      "\u001b[1;31mMemoryError\u001b[0m: Unable to allocate 1.01 GiB for an array with shape (548000, 248) and data type float64"
     ]
    }
   ],
   "source": [
    "# visualising the test set results\n",
    "from matplotlib.colors import ListedColormap\n",
    "X_set, y_set = ss.inverse_transform(x_test), y_test\n",
    "X1, X2 = np.meshgrid(np.arange(start = X_set[:, 0].min() - 10, stop = X_set[:, 0].max() + 10, step = 0.25),\n",
    "                     np.arange(start = X_set[:, 1].min() - 1000, stop = X_set[:, 1].max() + 1000, step = 0.25))\n",
    "plt.contourf(X1, X2, classifier.predict(ss.transform(np.array([X1.ravel(), X2.ravel()]).T)).reshape(X1.shape),\n",
    "             alpha = 0.75, cmap = ListedColormap(('red', 'green')))\n",
    "plt.xlim(X1.min(), X1.max())\n",
    "plt.ylim(X2.min(), X2.max())\n",
    "for i, j in enumerate(np.unique(y_set)):\n",
    "    plt.scatter(X_set[y_set == j, 0], X_set[y_set == j, 1], c = ListedColormap(('red', 'green'))(i), label = j)\n",
    "plt.title('Logistic Regression (Test set)')\n",
    "plt.xlabel('Age')\n",
    "plt.ylabel('Estimated Salary')\n",
    "plt.legend()\n",
    "plt.show()"
   ]
  }
 ],
 "metadata": {
  "kernelspec": {
   "display_name": "Python 3.10.5 64-bit",
   "language": "python",
   "name": "python3"
  },
  "language_info": {
   "codemirror_mode": {
    "name": "ipython",
    "version": 3
   },
   "file_extension": ".py",
   "mimetype": "text/x-python",
   "name": "python",
   "nbconvert_exporter": "python",
   "pygments_lexer": "ipython3",
   "version": "3.10.5"
  },
  "orig_nbformat": 4,
  "vscode": {
   "interpreter": {
    "hash": "ce31b1fc0ac848893791b844720c2934ff950e55938c71eb868b58ab502f8f20"
   }
  }
 },
 "nbformat": 4,
 "nbformat_minor": 2
}
